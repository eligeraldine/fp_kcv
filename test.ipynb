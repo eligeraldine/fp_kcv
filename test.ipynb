{
 "cells": [
  {
   "cell_type": "code",
   "execution_count": 68,
   "id": "37dee39c",
   "metadata": {},
   "outputs": [],
   "source": [
    "# ========================== #\n",
    "# 1. IMPORT LIBRARY\n",
    "# ========================== #\n",
    "import pandas as pd\n",
    "import numpy as np\n",
    "import matplotlib.pyplot as plt\n",
    "import seaborn as sns\n",
    "\n",
    "from sklearn.model_selection import train_test_split, cross_val_score\n",
    "from sklearn.preprocessing import StandardScaler\n",
    "from sklearn.metrics import classification_report, confusion_matrix, accuracy_score\n",
    "from sklearn.ensemble import RandomForestClassifier\n",
    "from sklearn.linear_model import LogisticRegression\n",
    "from sklearn.neighbors import KNeighborsClassifier\n",
    "from imblearn.over_sampling import SMOTE\n",
    "\n"
   ]
  },
  {
   "cell_type": "code",
   "execution_count": 69,
   "id": "b684d5cb",
   "metadata": {},
   "outputs": [
    {
     "data": {
      "text/html": [
       "<div>\n",
       "<style scoped>\n",
       "    .dataframe tbody tr th:only-of-type {\n",
       "        vertical-align: middle;\n",
       "    }\n",
       "\n",
       "    .dataframe tbody tr th {\n",
       "        vertical-align: top;\n",
       "    }\n",
       "\n",
       "    .dataframe thead th {\n",
       "        text-align: right;\n",
       "    }\n",
       "</style>\n",
       "<table border=\"1\" class=\"dataframe\">\n",
       "  <thead>\n",
       "    <tr style=\"text-align: right;\">\n",
       "      <th></th>\n",
       "      <th>Sleep_Quality</th>\n",
       "      <th>Headaches_per_week</th>\n",
       "      <th>Academic_Performance</th>\n",
       "      <th>Study_Load</th>\n",
       "      <th>Extracurricular_per_week</th>\n",
       "      <th>Stress_Label</th>\n",
       "    </tr>\n",
       "  </thead>\n",
       "  <tbody>\n",
       "    <tr>\n",
       "      <th>0</th>\n",
       "      <td>3</td>\n",
       "      <td>1</td>\n",
       "      <td>3</td>\n",
       "      <td>4</td>\n",
       "      <td>2</td>\n",
       "      <td>1</td>\n",
       "    </tr>\n",
       "    <tr>\n",
       "      <th>1</th>\n",
       "      <td>4</td>\n",
       "      <td>1</td>\n",
       "      <td>2</td>\n",
       "      <td>3</td>\n",
       "      <td>3</td>\n",
       "      <td>0</td>\n",
       "    </tr>\n",
       "    <tr>\n",
       "      <th>2</th>\n",
       "      <td>2</td>\n",
       "      <td>1</td>\n",
       "      <td>2</td>\n",
       "      <td>1</td>\n",
       "      <td>4</td>\n",
       "      <td>1</td>\n",
       "    </tr>\n",
       "    <tr>\n",
       "      <th>3</th>\n",
       "      <td>3</td>\n",
       "      <td>2</td>\n",
       "      <td>3</td>\n",
       "      <td>2</td>\n",
       "      <td>3</td>\n",
       "      <td>1</td>\n",
       "    </tr>\n",
       "    <tr>\n",
       "      <th>4</th>\n",
       "      <td>2</td>\n",
       "      <td>3</td>\n",
       "      <td>1</td>\n",
       "      <td>5</td>\n",
       "      <td>5</td>\n",
       "      <td>1</td>\n",
       "    </tr>\n",
       "  </tbody>\n",
       "</table>\n",
       "</div>"
      ],
      "text/plain": [
       "   Sleep_Quality  Headaches_per_week  Academic_Performance  Study_Load  \\\n",
       "0              3                   1                     3           4   \n",
       "1              4                   1                     2           3   \n",
       "2              2                   1                     2           1   \n",
       "3              3                   2                     3           2   \n",
       "4              2                   3                     1           5   \n",
       "\n",
       "   Extracurricular_per_week  Stress_Label  \n",
       "0                         2             1  \n",
       "1                         3             0  \n",
       "2                         4             1  \n",
       "3                         3             1  \n",
       "4                         5             1  "
      ]
     },
     "execution_count": 69,
     "metadata": {},
     "output_type": "execute_result"
    }
   ],
   "source": [
    "# ========================== #\n",
    "# 2. LOAD & CLEAN DATA\n",
    "# ========================== #\n",
    "df = pd.read_csv(\"Student Stress Factors.csv\")\n",
    "df.head()  # Tampilkan data awal\n",
    "\n",
    "df.drop(\"Timestamp\", axis=1, inplace=True)\n",
    "df.head()\n",
    "\n",
    "df.columns = [\n",
    "    'Sleep_Quality', 'Headaches_per_week', 'Academic_Performance',\n",
    "    'Study_Load', 'Extracurricular_per_week', 'Stress_Level'\n",
    "]\n",
    "\n",
    "df['Stress_Label'] = df['Stress_Level'].apply(lambda x: 0 if x <= 2 else 1)\n",
    "df.drop('Stress_Level', axis=1, inplace=True)\n",
    "df.head()"
   ]
  },
  {
   "cell_type": "code",
   "execution_count": 70,
   "id": "cb2df25a",
   "metadata": {},
   "outputs": [
    {
     "data": {
      "text/html": [
       "<div>\n",
       "<style scoped>\n",
       "    .dataframe tbody tr th:only-of-type {\n",
       "        vertical-align: middle;\n",
       "    }\n",
       "\n",
       "    .dataframe tbody tr th {\n",
       "        vertical-align: top;\n",
       "    }\n",
       "\n",
       "    .dataframe thead th {\n",
       "        text-align: right;\n",
       "    }\n",
       "</style>\n",
       "<table border=\"1\" class=\"dataframe\">\n",
       "  <thead>\n",
       "    <tr style=\"text-align: right;\">\n",
       "      <th></th>\n",
       "      <th>Sleep_Quality</th>\n",
       "      <th>Headaches_per_week</th>\n",
       "      <th>Academic_Performance</th>\n",
       "      <th>Study_Load</th>\n",
       "      <th>Extracurricular_per_week</th>\n",
       "      <th>Stress_Label</th>\n",
       "      <th>Load_Activity_Ratio</th>\n",
       "    </tr>\n",
       "  </thead>\n",
       "  <tbody>\n",
       "    <tr>\n",
       "      <th>0</th>\n",
       "      <td>3</td>\n",
       "      <td>1</td>\n",
       "      <td>3</td>\n",
       "      <td>4</td>\n",
       "      <td>2</td>\n",
       "      <td>1</td>\n",
       "      <td>1.333333</td>\n",
       "    </tr>\n",
       "    <tr>\n",
       "      <th>1</th>\n",
       "      <td>4</td>\n",
       "      <td>1</td>\n",
       "      <td>2</td>\n",
       "      <td>3</td>\n",
       "      <td>3</td>\n",
       "      <td>0</td>\n",
       "      <td>0.750000</td>\n",
       "    </tr>\n",
       "    <tr>\n",
       "      <th>2</th>\n",
       "      <td>2</td>\n",
       "      <td>1</td>\n",
       "      <td>2</td>\n",
       "      <td>1</td>\n",
       "      <td>4</td>\n",
       "      <td>1</td>\n",
       "      <td>0.200000</td>\n",
       "    </tr>\n",
       "    <tr>\n",
       "      <th>3</th>\n",
       "      <td>3</td>\n",
       "      <td>2</td>\n",
       "      <td>3</td>\n",
       "      <td>2</td>\n",
       "      <td>3</td>\n",
       "      <td>1</td>\n",
       "      <td>0.500000</td>\n",
       "    </tr>\n",
       "    <tr>\n",
       "      <th>4</th>\n",
       "      <td>2</td>\n",
       "      <td>3</td>\n",
       "      <td>1</td>\n",
       "      <td>5</td>\n",
       "      <td>5</td>\n",
       "      <td>1</td>\n",
       "      <td>0.833333</td>\n",
       "    </tr>\n",
       "  </tbody>\n",
       "</table>\n",
       "</div>"
      ],
      "text/plain": [
       "   Sleep_Quality  Headaches_per_week  Academic_Performance  Study_Load  \\\n",
       "0              3                   1                     3           4   \n",
       "1              4                   1                     2           3   \n",
       "2              2                   1                     2           1   \n",
       "3              3                   2                     3           2   \n",
       "4              2                   3                     1           5   \n",
       "\n",
       "   Extracurricular_per_week  Stress_Label  Load_Activity_Ratio  \n",
       "0                         2             1             1.333333  \n",
       "1                         3             0             0.750000  \n",
       "2                         4             1             0.200000  \n",
       "3                         3             1             0.500000  \n",
       "4                         5             1             0.833333  "
      ]
     },
     "execution_count": 70,
     "metadata": {},
     "output_type": "execute_result"
    }
   ],
   "source": [
    "# ========================== #\n",
    "# 3. FEATURE ENGINEERING\n",
    "# ========================== #\n",
    "df['Load_Activity_Ratio'] = df['Study_Load'] / (df['Extracurricular_per_week'] + 1)\n",
    "df.head()\n",
    "\n",
    "# Kalau belajar terus, tidur kurang, sering sakit kepala, dan jarang refreshing, kemungkinan besar akan stres."
   ]
  },
  {
   "cell_type": "code",
   "execution_count": 71,
   "id": "adad862f",
   "metadata": {},
   "outputs": [],
   "source": [
    "# ========================== #\n",
    "# 4. SCALING & SMOTE\n",
    "# ========================== #\n",
    "X = df.drop('Stress_Label', axis=1)\n",
    "y = df['Stress_Label']\n",
    "\n",
    "X\n",
    "\n",
    "y\n",
    "\n",
    "\n",
    "scaler = StandardScaler()\n",
    "X_scaled = scaler.fit_transform(X)\n",
    "\n",
    "sm = SMOTE(random_state=42)\n",
    "X_res, y_res = sm.fit_resample(X_scaled, y)\n",
    "\n",
    "X_train, X_test, y_train, y_test = train_test_split(X_res, y_res, test_size=0.2, random_state=42)"
   ]
  },
  {
   "cell_type": "code",
   "execution_count": 72,
   "id": "bdaa5356",
   "metadata": {},
   "outputs": [
    {
     "name": "stdout",
     "output_type": "stream",
     "text": [
      "=== Random Forest ===\n",
      "Accuracy: 0.75\n",
      "Confusion Matrix:\n",
      " [[3 2]\n",
      " [1 6]]\n",
      "Classification Report:\n",
      "               precision    recall  f1-score   support\n",
      "\n",
      "           0       0.75      0.60      0.67         5\n",
      "           1       0.75      0.86      0.80         7\n",
      "\n",
      "    accuracy                           0.75        12\n",
      "   macro avg       0.75      0.73      0.73        12\n",
      "weighted avg       0.75      0.75      0.74        12\n",
      "\n"
     ]
    },
    {
     "name": "stderr",
     "output_type": "stream",
     "text": [
      "C:\\Users\\Rouli Elizabeth\\AppData\\Local\\Temp\\ipykernel_33172\\4093194690.py:26: FutureWarning: \n",
      "\n",
      "Passing `palette` without assigning `hue` is deprecated and will be removed in v0.14.0. Assign the `y` variable to `hue` and set `legend=False` for the same effect.\n",
      "\n",
      "  sns.barplot(data=importance_df, x='Importance', y='Feature', palette='mako')\n"
     ]
    },
    {
     "data": {
      "image/png": "[encoded data removed]",
      "text/plain": [
       "<Figure size 800x500 with 1 Axes>"
      ]
     },
     "metadata": {},
     "output_type": "display_data"
    }
   ],
   "source": [
    "# ========================== #\n",
    "# 5. MODEL TRAINING\n",
    "# ========================== #\n",
    "# ========================== #\n",
    "# Random Forest\n",
    "# ========================== #\n",
    "rf_model = RandomForestClassifier(n_estimators=100, random_state=42)\n",
    "rf_model.fit(X_train, y_train)\n",
    "rf_pred = rf_model.predict(X_test)\n",
    "\n",
    "rf_acc = accuracy_score(y_test, rf_pred)\n",
    "print(\"=== Random Forest ===\")\n",
    "print(\"Accuracy:\", rf_acc)\n",
    "print(\"Confusion Matrix:\\n\", confusion_matrix(y_test, rf_pred))\n",
    "print(\"Classification Report:\\n\", classification_report(y_test, rf_pred))\n",
    "\n",
    "# ========================== #\n",
    "# 5.a FEATURE IMPORTANCE\n",
    "# ========================== #\n",
    "importances = rf_model.feature_importances_\n",
    "features = X.columns\n",
    "importance_df = pd.DataFrame({'Feature': features, 'Importance': importances})\n",
    "importance_df = importance_df.sort_values(by='Importance', ascending=False)\n",
    "\n",
    "plt.figure(figsize=(8,5))\n",
    "sns.barplot(data=importance_df, x='Importance', y='Feature', palette='mako')\n",
    "plt.title(\"Random Forest - Feature Importance\")\n",
    "plt.tight_layout()\n",
    "plt.show()\n",
    "\n"
   ]
  },
  {
   "cell_type": "code",
   "execution_count": 73,
   "id": "dd9a6364",
   "metadata": {},
   "outputs": [
    {
     "name": "stdout",
     "output_type": "stream",
     "text": [
      "=== Logistic Regression ===\n",
      "Accuracy: 0.5833333333333334\n",
      "Confusion Matrix:\n",
      " [[2 3]\n",
      " [2 5]]\n",
      "Classification Report:\n",
      "               precision    recall  f1-score   support\n",
      "\n",
      "           0       0.50      0.40      0.44         5\n",
      "           1       0.62      0.71      0.67         7\n",
      "\n",
      "    accuracy                           0.58        12\n",
      "   macro avg       0.56      0.56      0.56        12\n",
      "weighted avg       0.57      0.58      0.57        12\n",
      "\n"
     ]
    }
   ],
   "source": [
    "# ========================== #\n",
    "# Logistic Regression\n",
    "# ========================== #\n",
    "lr_model = LogisticRegression(max_iter=500)\n",
    "lr_model.fit(X_train, y_train)\n",
    "lr_pred = lr_model.predict(X_test)\n",
    "\n",
    "lr_acc = accuracy_score(y_test, lr_pred)\n",
    "print(\"=== Logistic Regression ===\")\n",
    "print(\"Accuracy:\", lr_acc)\n",
    "print(\"Confusion Matrix:\\n\", confusion_matrix(y_test, lr_pred))\n",
    "print(\"Classification Report:\\n\", classification_report(y_test, lr_pred))"
   ]
  },
  {
   "cell_type": "code",
   "execution_count": 74,
   "id": "e93d5f66",
   "metadata": {},
   "outputs": [
    {
     "name": "stdout",
     "output_type": "stream",
     "text": [
      "=== K-Nearest Neighbors ===\n",
      "Accuracy: 0.6666666666666666\n",
      "Confusion Matrix:\n",
      " [[2 3]\n",
      " [1 6]]\n",
      "Classification Report:\n",
      "               precision    recall  f1-score   support\n",
      "\n",
      "           0       0.67      0.40      0.50         5\n",
      "           1       0.67      0.86      0.75         7\n",
      "\n",
      "    accuracy                           0.67        12\n",
      "   macro avg       0.67      0.63      0.62        12\n",
      "weighted avg       0.67      0.67      0.65        12\n",
      "\n"
     ]
    }
   ],
   "source": [
    "# ========================== #\n",
    "# K-Nearest Neighbors\n",
    "# ========================== #\n",
    "knn_model = KNeighborsClassifier(n_neighbors=3)\n",
    "knn_model.fit(X_train, y_train)\n",
    "knn_pred = knn_model.predict(X_test)\n",
    "\n",
    "knn_acc = accuracy_score(y_test, knn_pred)\n",
    "print(\"=== K-Nearest Neighbors ===\")\n",
    "print(\"Accuracy:\", knn_acc)\n",
    "print(\"Confusion Matrix:\\n\", confusion_matrix(y_test, knn_pred))\n",
    "print(\"Classification Report:\\n\", classification_report(y_test, knn_pred))\n"
   ]
  },
  {
   "cell_type": "code",
   "execution_count": 75,
   "id": "6c4492b4",
   "metadata": {},
   "outputs": [
    {
     "name": "stderr",
     "output_type": "stream",
     "text": [
      "C:\\Users\\Rouli Elizabeth\\AppData\\Local\\Temp\\ipykernel_33172\\1542572543.py:13: FutureWarning: \n",
      "\n",
      "Passing `palette` without assigning `hue` is deprecated and will be removed in v0.14.0. Assign the `x` variable to `hue` and set `legend=False` for the same effect.\n",
      "\n",
      "  sns.barplot(data=results_df, x=\"Model\", y=\"Accuracy\", palette=\"viridis\")\n"
     ]
    },
    {
     "data": {
      "image/png": "[encoded data removed]",
      "text/plain": [
       "<Figure size 800x500 with 1 Axes>"
      ]
     },
     "metadata": {},
     "output_type": "display_data"
    }
   ],
   "source": [
    "# ========================== #\n",
    "# 6. COMPARE RESULTS\n",
    "# ========================== #\n",
    "results = [\n",
    "    {\"Model\": \"Random Forest\", \"Accuracy\": rf_acc},\n",
    "    {\"Model\": \"Logistic Regression\", \"Accuracy\": lr_acc},\n",
    "    {\"Model\": \"K-Nearest Neighbors\", \"Accuracy\": knn_acc},\n",
    "]\n",
    "\n",
    "results_df = pd.DataFrame(results).sort_values(by=\"Accuracy\", ascending=False)\n",
    "\n",
    "plt.figure(figsize=(8,5))\n",
    "sns.barplot(data=results_df, x=\"Model\", y=\"Accuracy\", palette=\"viridis\")\n",
    "plt.title(\"Model Comparison - Accuracy\")\n",
    "plt.ylim(0.5, 1.0)\n",
    "plt.tight_layout()\n",
    "plt.show()"
   ]
  },
  {
   "cell_type": "code",
   "execution_count": 76,
   "id": "96f4e495",
   "metadata": {},
   "outputs": [],
   "source": [
    "models = {\n",
    "    \"Random Forest\": rf_model,\n",
    "    \"Logistic Regression\": lr_model,\n",
    "    \"K-Nearest Neighbors\": knn_model\n",
    "}"
   ]
  },
  {
   "cell_type": "code",
   "execution_count": 77,
   "id": "17995d47",
   "metadata": {},
   "outputs": [
    {
     "name": "stdout",
     "output_type": "stream",
     "text": [
      "\n",
      "=== Cross-Validation Scores ===\n",
      "Random Forest: mean=0.6236, std=0.1028\n",
      "Logistic Regression: mean=0.5891, std=0.1153\n",
      "K-Nearest Neighbors: mean=0.5855, std=0.1544\n"
     ]
    }
   ],
   "source": [
    "# ========================== #\n",
    "# 7. CROSS VALIDATION\n",
    "# ========================== #\n",
    "print(\"\\n=== Cross-Validation Scores ===\")\n",
    "for name, model in models.items():\n",
    "    scores = cross_val_score(model, X_scaled, y, cv=5)\n",
    "    print(f\"{name}: mean={scores.mean():.4f}, std={scores.std():.4f}\")\n",
    "\n",
    "# Bandingin model mana yang paling bagus secara rata-rata.\n",
    "# Pilih model yang konsisten, bukan cuma bagus 1x doang."
   ]
  },
  {
   "cell_type": "code",
   "execution_count": 78,
   "id": "adc5bfaf",
   "metadata": {},
   "outputs": [
    {
     "name": "stdout",
     "output_type": "stream",
     "text": [
      "=== Macro F1-Score ===\n",
      "Random Forest: 0.7333333333333334\n",
      "Logistic Regression: 0.5555555555555556\n",
      "K-Nearest Neighbors: 0.625\n"
     ]
    },
    {
     "name": "stderr",
     "output_type": "stream",
     "text": [
      "C:\\Users\\Rouli Elizabeth\\AppData\\Local\\Temp\\ipykernel_33172\\940041680.py:22: FutureWarning: \n",
      "\n",
      "Passing `palette` without assigning `hue` is deprecated and will be removed in v0.14.0. Assign the `x` variable to `hue` and set `legend=False` for the same effect.\n",
      "\n",
      "  sns.barplot(data=f1_results, x='Model', y='Macro F1-Score', palette='coolwarm')\n"
     ]
    },
    {
     "data": {
      "image/png": "[encoded data removed]",
      "text/plain": [
       "<Figure size 800x500 with 1 Axes>"
      ]
     },
     "metadata": {},
     "output_type": "display_data"
    }
   ],
   "source": [
    "# ========================== #\n",
    "# 8. MACRO F1-SCORE EVALUATION\n",
    "# ========================== #\n",
    "from sklearn.metrics import f1_score\n",
    "\n",
    "rf_f1_macro = f1_score(y_test, rf_pred, average='macro')\n",
    "lr_f1_macro = f1_score(y_test, lr_pred, average='macro')\n",
    "knn_f1_macro = f1_score(y_test, knn_pred, average='macro')\n",
    "\n",
    "print(\"=== Macro F1-Score ===\")\n",
    "print(\"Random Forest:\", rf_f1_macro)\n",
    "print(\"Logistic Regression:\", lr_f1_macro)\n",
    "print(\"K-Nearest Neighbors:\", knn_f1_macro)\n",
    "\n",
    "# Visualisasi sebagai barplot\n",
    "f1_results = pd.DataFrame({\n",
    "    'Model': ['Random Forest', 'Logistic Regression', 'KNN'],\n",
    "    'Macro F1-Score': [rf_f1_macro, lr_f1_macro, knn_f1_macro]\n",
    "}).sort_values(by='Macro F1-Score', ascending=False)\n",
    "\n",
    "plt.figure(figsize=(8, 5))\n",
    "sns.barplot(data=f1_results, x='Model', y='Macro F1-Score', palette='coolwarm')\n",
    "plt.title(\"Model Comparison - Macro F1-Score\")\n",
    "plt.ylim(0.0, 1.0)\n",
    "plt.tight_layout()\n",
    "plt.show()\n",
    "\n",
    "# F1-Score digunakan buat mengukur keseimbangan antara presisi dan recall pada prediksi model--jadi misal stress sama not stress nya gaseimbang\n",
    "# Dari evaluasi F1 (yang adil ke semua kelas), Random Forest adalah model terbaik buat klasifikasi stres.\n"
   ]
  }
 ],
 "metadata": {
  "kernelspec": {
   "display_name": "Python 3",
   "language": "python",
   "name": "python3"
  },
  "language_info": {
   "codemirror_mode": {
    "name": "ipython",
    "version": 3
   },
   "file_extension": ".py",
   "mimetype": "text/x-python",
   "name": "python",
   "nbconvert_exporter": "python",
   "pygments_lexer": "ipython3",
   "version": "3.13.0"
  }
 },
 "nbformat": 4,
 "nbformat_minor": 5
}
